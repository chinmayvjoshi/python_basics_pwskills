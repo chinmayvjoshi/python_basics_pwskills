{
  "nbformat": 4,
  "nbformat_minor": 0,
  "metadata": {
    "colab": {
      "provenance": [],
      "authorship_tag": "ABX9TyPXaXiHBSI7y/PER+ik5x6C",
      "include_colab_link": true
    },
    "kernelspec": {
      "name": "python3",
      "display_name": "Python 3"
    },
    "language_info": {
      "name": "python"
    }
  },
  "cells": [
    {
      "cell_type": "markdown",
      "metadata": {
        "id": "view-in-github",
        "colab_type": "text"
      },
      "source": [
        "<a href=\"https://colab.research.google.com/github/chinmayvjoshi/python_basics_pwskills/blob/main/pw_skills_assignment_1.ipynb\" target=\"_parent\"><img src=\"https://colab.research.google.com/assets/colab-badge.svg\" alt=\"Open In Colab\"/></a>"
      ]
    },
    {
      "cell_type": "markdown",
      "source": [
        "# TOPIC: Python Basics Variable"
      ],
      "metadata": {
        "id": "r5AVFtXh7BMd"
      }
    },
    {
      "cell_type": "markdown",
      "source": [
        " Declare two variables, `x` and `y`, and assign them integer values. Swap the values of these variables without using any temporary variable."
      ],
      "metadata": {
        "id": "mrX5jD-A7JK1"
      }
    },
    {
      "cell_type": "code",
      "execution_count": 1,
      "metadata": {
        "colab": {
          "base_uri": "https://localhost:8080/"
        },
        "id": "jKJkPY-266Qa",
        "outputId": "67719515-7f6b-4cbc-abfa-d083d33aa3f5"
      },
      "outputs": [
        {
          "output_type": "stream",
          "name": "stdout",
          "text": [
            "x = 20\n",
            "y = 10\n"
          ]
        }
      ],
      "source": [
        "# Declare two variables, x and y, and assign them integer values\n",
        "x = 10\n",
        "y = 20\n",
        "\n",
        "# Swap the values of x and y using arithmetic operations\n",
        "x = x + y # x becomes 30\n",
        "y = x - y # y becomes 10\n",
        "x = x - y # x becomes 20\n",
        "\n",
        "# Print the swapped values of x and y\n",
        "print(\"x =\", x)\n",
        "print(\"y =\", y)\n"
      ]
    },
    {
      "cell_type": "markdown",
      "source": [
        " Create a program that calculates the area of a rectangle. Take the length and width as inputs from the user and store them in variables. Calculate and display the area."
      ],
      "metadata": {
        "id": "ppPlOHD67Z3_"
      }
    },
    {
      "cell_type": "code",
      "source": [
        "# Take the length and width as inputs from the user and store them in variables\n",
        "length = float(input(\"Enter the length of the rectangle: \"))\n",
        "width = float(input(\"Enter the width of the rectangle: \"))\n",
        "\n",
        "# Calculate and display the area\n",
        "area = length * width # The formula for the area of a rectangle is length times width\n",
        "print(\"The area of the rectangle is\", area)\n"
      ],
      "metadata": {
        "colab": {
          "base_uri": "https://localhost:8080/"
        },
        "id": "LS1sBR3V7ZUF",
        "outputId": "674cda20-350c-4667-a11c-9cbc71bd0f19"
      },
      "execution_count": 3,
      "outputs": [
        {
          "output_type": "stream",
          "name": "stdout",
          "text": [
            "Enter the length of the rectangle: 55\n",
            "Enter the width of the rectangle: 60\n",
            "The area of the rectangle is 3300.0\n"
          ]
        }
      ]
    },
    {
      "cell_type": "markdown",
      "source": [
        " Write a Python program that converts temperatures from Celsius to Fahrenheit. Take the temperature in Celsius as input, store it in a variable, convert it to Fahrenheit, and display the result."
      ],
      "metadata": {
        "id": "2ZAKJq8w7qW3"
      }
    },
    {
      "cell_type": "code",
      "source": [
        "# Take the temperature in Celsius as input, store it in a variable\n",
        "celsius = float(input(\"Enter the temperature in Celsius: \"))\n",
        "\n",
        "# Convert it to Fahrenheit\n",
        "fahrenheit = (celsius * 9/5) + 32 # The formula for converting Celsius to Fahrenheit is (C * 9/5) + 32\n",
        "\n",
        "# Display the result\n",
        "print(\"The temperature in Fahrenheit is\", fahrenheit)\n"
      ],
      "metadata": {
        "colab": {
          "base_uri": "https://localhost:8080/"
        },
        "id": "a6qqzi6X7vsC",
        "outputId": "44ee2d62-7f6d-42c3-db78-110cc6020ad1"
      },
      "execution_count": 6,
      "outputs": [
        {
          "output_type": "stream",
          "name": "stdout",
          "text": [
            "Enter the temperature in Celsius: 97\n",
            "The temperature in Fahrenheit is 206.6\n"
          ]
        }
      ]
    },
    {
      "cell_type": "markdown",
      "source": [
        "# TOPIC: String Based Questions\n"
      ],
      "metadata": {
        "id": "N8z2XBPj7ADp"
      }
    },
    {
      "cell_type": "markdown",
      "source": [
        "1. Write a Python program that takes a string as input and prints the length of the string."
      ],
      "metadata": {
        "id": "3IWzSvLH730w"
      }
    },
    {
      "cell_type": "code",
      "source": [
        "# Take a string as input, store it in a variable\n",
        "string = input(\"Enter a string: \")\n",
        "\n",
        "# Print the length of the string\n",
        "length = len(string) # The len() function returns the number of characters in a string\n",
        "print(\"The length of the string is\", length)\n"
      ],
      "metadata": {
        "colab": {
          "base_uri": "https://localhost:8080/"
        },
        "id": "cg8OEEir79dm",
        "outputId": "4105ccdb-fb42-40e7-d435-2f18fdaaf21c"
      },
      "execution_count": 7,
      "outputs": [
        {
          "output_type": "stream",
          "name": "stdout",
          "text": [
            "Enter a string: chinmay joshi\n",
            "The length of the string is 13\n"
          ]
        }
      ]
    },
    {
      "cell_type": "markdown",
      "source": [
        "2. Create a program that takes a sentence from the user and counts the number of vowels (a, e, i, o, u) in the string.\n"
      ],
      "metadata": {
        "id": "wLF1cSg58bjb"
      }
    },
    {
      "cell_type": "code",
      "source": [
        "# Take a sentence from the user, store it in a variable\n",
        "sentence = input(\"Enter a sentence: \")\n",
        "\n",
        "# Initialize a variable to store the vowel count\n",
        "vowel_count = 0\n",
        "\n",
        "# Loop through each character in the sentence\n",
        "for char in sentence:\n",
        "  # Check if the character is a vowel (lowercase or uppercase)\n",
        "  if char in \"aeiouAEIOU\":\n",
        "    # Increment the vowel count by one\n",
        "    vowel_count += 1\n",
        "\n",
        "# Print the vowel count\n",
        "print(\"The number of vowels in the sentence is\", vowel_count)\n"
      ],
      "metadata": {
        "colab": {
          "base_uri": "https://localhost:8080/"
        },
        "id": "1Qi0o5g88hxP",
        "outputId": "7fe73da8-f907-4c22-cd90-26a467a16016"
      },
      "execution_count": 9,
      "outputs": [
        {
          "output_type": "stream",
          "name": "stdout",
          "text": [
            "Enter a sentence: sachin tendulkar\n",
            "The number of vowels in the sentence is 5\n"
          ]
        }
      ]
    },
    {
      "cell_type": "markdown",
      "source": [
        "3. Given a string, reverse the order of characters using string slicing and print the reversed string."
      ],
      "metadata": {
        "id": "ZnqZxGlw8iID"
      }
    },
    {
      "cell_type": "code",
      "source": [
        "# Take a string as input, store it in a variable\n",
        "string = input(\"Enter a string: \")\n",
        "\n",
        "# Reverse the order of characters using string slicing\n",
        "# The syntax for string slicing is string[start:stop:step]\n",
        "# To reverse the string, we use a negative step of -1\n",
        "reversed_string = string[::-1]\n",
        "\n",
        "# Print the reversed string\n",
        "print(\"The reversed string is\", reversed_string)\n"
      ],
      "metadata": {
        "colab": {
          "base_uri": "https://localhost:8080/"
        },
        "id": "zt8Xvx-p8mOk",
        "outputId": "7c48c26f-a031-447d-e311-0e78b278a67e"
      },
      "execution_count": 10,
      "outputs": [
        {
          "output_type": "stream",
          "name": "stdout",
          "text": [
            "Enter a string: chinmay joshi\n",
            "The reversed string is ihsoj yamnihc\n"
          ]
        }
      ]
    },
    {
      "cell_type": "markdown",
      "source": [
        "4. Write a program that takes a string as input and checks if it is a palindrome (reads the same forwards and backwards)"
      ],
      "metadata": {
        "id": "CQlW3zSs8mrs"
      }
    },
    {
      "cell_type": "code",
      "source": [
        "# Take a string as input, store it in a variable\n",
        "string = input(\"Enter a string: \")\n",
        "\n",
        "# Convert the string to lowercase to ignore case sensitivity\n",
        "string = string.lower()\n",
        "\n",
        "# Reverse the string using string slicing\n",
        "reversed_string = string[::-1]\n",
        "\n",
        "# Check if the original string and the reversed string are equal\n",
        "if string == reversed_string:\n",
        "  # If yes, print that the string is a palindrome\n",
        "  print(\"The string is a palindrome\")\n",
        "else:\n",
        "  # If no, print that the string is not a palindrome\n",
        "  print(\"The string is not a palindrome\")\n"
      ],
      "metadata": {
        "colab": {
          "base_uri": "https://localhost:8080/"
        },
        "id": "uPpOaFxN9Os0",
        "outputId": "49544250-13ee-4ac6-ccd6-c3fcd63ee5b6"
      },
      "execution_count": 12,
      "outputs": [
        {
          "output_type": "stream",
          "name": "stdout",
          "text": [
            "Enter a string: chinmay\n",
            "The string is not a palindrome\n"
          ]
        }
      ]
    },
    {
      "cell_type": "markdown",
      "source": [
        "5. Create a program that takes a string as input and removes all the spaces from it. Print the modified string without spaces.\n"
      ],
      "metadata": {
        "id": "yx_HGXyY9PQe"
      }
    },
    {
      "cell_type": "code",
      "source": [
        "# Take a string as input, store it in a variable\n",
        "string = input(\"Enter a string: \")\n",
        "\n",
        "# Remove all the spaces from the string using the replace() method\n",
        "# The replace() method replaces a specified character or substring with another character or substring\n",
        "# To remove spaces, we replace them with empty strings\n",
        "string_without_spaces = string.replace(\" \", \"\")\n",
        "\n",
        "# Print the modified string without spaces\n",
        "print(\"The string without spaces is\", string_without_spaces)\n"
      ],
      "metadata": {
        "colab": {
          "base_uri": "https://localhost:8080/"
        },
        "id": "ddW5jzAG9-fK",
        "outputId": "6bf0557a-8c08-4b92-b14b-73340b771000"
      },
      "execution_count": 13,
      "outputs": [
        {
          "output_type": "stream",
          "name": "stdout",
          "text": [
            "Enter a string: chinmay joshi\n",
            "The string without spaces is chinmayjoshi\n"
          ]
        }
      ]
    }
  ]
}